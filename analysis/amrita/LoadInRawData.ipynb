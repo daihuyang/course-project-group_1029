{
 "cells": [
  {
   "cell_type": "code",
   "execution_count": 11,
   "metadata": {},
   "outputs": [
    {
     "name": "stdout",
     "output_type": "stream",
     "text": [
      "done adult.test\n"
     ]
    }
   ],
   "source": [
    "import requests\n",
    "download_url = \"https://archive.ics.uci.edu/ml/machine-learning-databases/adult/adult.test\"\n",
    "target_path = \"adult.test\"\n",
    "\n",
    "response = requests.get(download_url)\n",
    "response.raise_for_status()\n",
    "with open(target_path,\"wb\") as f:\n",
    "    f.write(response.content)\n",
    "print(\"done adult.test\")"
   ]
  },
  {
   "cell_type": "code",
   "execution_count": 12,
   "metadata": {},
   "outputs": [
    {
     "name": "stdout",
     "output_type": "stream",
     "text": [
      "done adult.data\n"
     ]
    }
   ],
   "source": [
    "import requests\n",
    "download_url = \"https://archive.ics.uci.edu/ml/machine-learning-databases/adult/adult.data\"\n",
    "target_path = \"adult.data\"\n",
    "\n",
    "response = requests.get(download_url)\n",
    "response.raise_for_status()\n",
    "with open(target_path,\"wb\") as f:\n",
    "    f.write(response.content)\n",
    "print(\"done adult.data\")"
   ]
  },
  {
   "cell_type": "code",
   "execution_count": 13,
   "metadata": {},
   "outputs": [
    {
     "name": "stdout",
     "output_type": "stream",
     "text": [
      "done adult.names\n"
     ]
    }
   ],
   "source": [
    "import requests\n",
    "download_url = \"https://archive.ics.uci.edu/ml/machine-learning-databases/adult/adult.names\"\n",
    "target_path = \"adult.names\"\n",
    "\n",
    "response = requests.get(download_url)\n",
    "response.raise_for_status()\n",
    "with open(target_path,\"wb\") as f:\n",
    "    f.write(response.content)\n",
    "print(\"done adult.names\")"
   ]
  },
  {
   "cell_type": "code",
   "execution_count": 14,
   "metadata": {},
   "outputs": [
    {
     "name": "stdout",
     "output_type": "stream",
     "text": [
      "done old.adult.names\n"
     ]
    }
   ],
   "source": [
    "import requests\n",
    "download_url = \"https://archive.ics.uci.edu/ml/machine-learning-databases/adult/old.adult.names\"\n",
    "target_path = \"old.adult.names\"\n",
    "\n",
    "response = requests.get(download_url)\n",
    "response.raise_for_status()\n",
    "with open(target_path,\"wb\") as f:\n",
    "    f.write(response.content)\n",
    "print(\"done old.adult.names\")"
   ]
  },
  {
   "cell_type": "code",
   "execution_count": 16,
   "metadata": {},
   "outputs": [
    {
     "name": "stdout",
     "output_type": "stream",
     "text": [
      "done index\n"
     ]
    }
   ],
   "source": [
    "import requests\n",
    "download_url = \"https://archive.ics.uci.edu/ml/machine-learning-databases/adult/Index\"\n",
    "target_path = \"index\"\n",
    "\n",
    "response = requests.get(download_url)\n",
    "response.raise_for_status()\n",
    "with open(target_path,\"wb\") as f:\n",
    "    f.write(response.content)\n",
    "print(\"done index\")"
   ]
  },
  {
   "cell_type": "code",
   "execution_count": null,
   "metadata": {},
   "outputs": [],
   "source": []
  }
 ],
 "metadata": {
  "kernelspec": {
   "display_name": "Python 3",
   "language": "python",
   "name": "python3"
  },
  "language_info": {
   "codemirror_mode": {
    "name": "ipython",
    "version": 3
   },
   "file_extension": ".py",
   "mimetype": "text/x-python",
   "name": "python",
   "nbconvert_exporter": "python",
   "pygments_lexer": "ipython3",
   "version": "3.8.6"
  }
 },
 "nbformat": 4,
 "nbformat_minor": 4
}
